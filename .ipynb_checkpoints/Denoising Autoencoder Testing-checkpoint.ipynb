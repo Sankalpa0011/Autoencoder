{
 "cells": [
  {
   "cell_type": "markdown",
   "id": "84192a7f-445e-42b4-9307-0f590db99b71",
   "metadata": {},
   "source": [
    "## Load The Data"
   ]
  },
  {
   "cell_type": "code",
   "execution_count": 2,
   "id": "0e765832-a48d-4529-bba4-c357c44c41bb",
   "metadata": {},
   "outputs": [],
   "source": [
    "import numpy as np\n",
    "\n",
    "test_data = np.load(\"test_data.npy\")\n",
    "test_data_noisy = np.load(\"test_data_noisy.npy\")"
   ]
  },
  {
   "cell_type": "code",
   "execution_count": 3,
   "id": "a1f6750f-aab2-4ab6-8a89-65f28442aada",
   "metadata": {},
   "outputs": [
    {
     "data": {
      "text/plain": [
       "<matplotlib.image.AxesImage at 0x29dc5563200>"
      ]
     },
     "execution_count": 3,
     "metadata": {},
     "output_type": "execute_result"
    },
    {
     "data": {
      "image/png": "[encoded data removed]",
      "text/plain": [
       "<Figure size 640x480 with 1 Axes>"
      ]
     },
     "metadata": {},
     "output_type": "display_data"
    }
   ],
   "source": [
    "from matplotlib import pyplot as plt\n",
    "\n",
    "plt.imshow(test_data[0].reshape(28, 28), cmap='gray')"
   ]
  },
  {
   "cell_type": "code",
   "execution_count": 4,
   "id": "4acc7675-f9a4-434a-abff-15ad0634d23f",
   "metadata": {},
   "outputs": [
    {
     "data": {
      "text/plain": [
       "<matplotlib.image.AxesImage at 0x29dc5629c70>"
      ]
     },
     "execution_count": 4,
     "metadata": {},
     "output_type": "execute_result"
    },
    {
     "data": {
      "image/png": "[encoded data removed]",
      "text/plain": [
       "<Figure size 640x480 with 1 Axes>"
      ]
     },
     "metadata": {},
     "output_type": "display_data"
    }
   ],
   "source": [
    "plt.imshow(test_data_noisy[0].reshape(28, 28), cmap='gray')"
   ]
  },
  {
   "cell_type": "markdown",
   "id": "5d33bd92-494e-4281-8620-4c0c5a863ea1",
   "metadata": {},
   "source": [
    "## Autoencoder Model Architechture"
   ]
  },
  {
   "cell_type": "code",
   "execution_count": 6,
   "id": "4f8d4cdb-4b46-4e4f-8151-785712842ccc",
   "metadata": {},
   "outputs": [
    {
     "name": "stderr",
     "output_type": "stream",
     "text": [
      "C:\\Users\\DELL\\anaconda3\\Lib\\site-packages\\keras\\src\\saving\\saving_lib.py:719: UserWarning: Skipping variable loading for optimizer 'adam', because it has 2 variables whereas the saved optimizer has 22 variables. \n",
      "  saveable.load_own_variables(weights_store.get(inner_path))\n"
     ]
    }
   ],
   "source": [
    "from keras.layers import Input, Dense, Conv2D, MaxPooling2D, UpSampling2D\n",
    "from keras.models import Model\n",
    "from keras import backend as K\n",
    "\n",
    "\n",
    "# Define input layer\n",
    "input_layer = Input(shape=(28, 28, 1))  \n",
    "\n",
    "# Encoder layers\n",
    "encoder_layer1 = Conv2D(32, (3,3), activation='relu', padding='same')(input_layer)\n",
    "encoder_layer2 = MaxPooling2D((2,2), padding='same')(encoder_layer1)\n",
    "encoder_layer3 = Conv2D(32, (3,3), activation='relu', padding='same')(encoder_layer2)\n",
    "encoder = MaxPooling2D((2,2), padding='same')(encoder_layer3)\n",
    "\n",
    "# Decoder layers \n",
    "decoder_layer1 = Conv2D(32, (3,3), activation='relu', padding='same')(encoder)\n",
    "decoder_layer2 = UpSampling2D((2,2))(decoder_layer1)\n",
    "decoder_layer3 = Conv2D(32, (3,3), activation='relu', padding='same')(decoder_layer2)\n",
    "decoder_layer4 = UpSampling2D((2,2))(decoder_layer3)\n",
    "\n",
    "decoder = Conv2D(1, (3,3), activation='sigmoid', padding='same')(decoder_layer4)\n",
    "\n",
    "# Define autoencoder model\n",
    "autoencoder = Model(inputs=input_layer, outputs=decoder)\n",
    "\n",
    "# Compile the model\n",
    "autoencoder.compile(optimizer='adam', loss='binary_crossentropy')\n",
    "\n",
    "# Load the trained model\n",
    "autoencoder.load_weights('autoencoders_noise_removal_weights.weights.h5')"
   ]
  },
  {
   "cell_type": "markdown",
   "id": "62a8ccce-cd2d-44c7-b7f3-7a5e52a8b029",
   "metadata": {},
   "source": [
    "## Predictions"
   ]
  },
  {
   "cell_type": "code",
   "execution_count": 8,
   "id": "209f186d-6143-47dd-a0fe-5073fc156956",
   "metadata": {},
   "outputs": [
    {
     "name": "stdout",
     "output_type": "stream",
     "text": [
      "\u001b[1m313/313\u001b[0m \u001b[32m━━━━━━━━━━━━━━━━━━━━\u001b[0m\u001b[37m\u001b[0m \u001b[1m3s\u001b[0m 8ms/step\n"
     ]
    }
   ],
   "source": [
    "predicted_data = autoencoder.predict(test_data_noisy)"
   ]
  },
  {
   "cell_type": "code",
   "execution_count": null,
   "id": "11a0ab61-0fd7-41a8-a14e-c3cce8a82fe7",
   "metadata": {},
   "outputs": [],
   "source": [
    "for i in range(test_data.shape[0]):\n",
    "    plt.imshow(test_data[i].reshape(28,28), cmap='gray')\n",
    "    plt.savefig('results/original_image_' + str(i) + '.png')\n",
    "    \n",
    "    plt.imshow(test_data_noisy[i].reshape(28,28), cmap='gray')\n",
    "    plt.savefig('results/noisy_image_' + str(i) + '.png')\n",
    "    \n",
    "    plt.imshow(predicted_data[i].reshape(28,28), cmap='gray')\n",
    "    plt.savefig('results/predicted_image_' + str(i) + '.png')\n",
    "    \n",
    "    plt.close()"
   ]
  }
 ],
 "metadata": {
  "kernelspec": {
   "display_name": "Python 3 (ipykernel)",
   "language": "python",
   "name": "python3"
  },
  "language_info": {
   "codemirror_mode": {
    "name": "ipython",
    "version": 3
   },
   "file_extension": ".py",
   "mimetype": "text/x-python",
   "name": "python",
   "nbconvert_exporter": "python",
   "pygments_lexer": "ipython3",
   "version": "3.12.4"
  }
 },
 "nbformat": 4,
 "nbformat_minor": 5
}
